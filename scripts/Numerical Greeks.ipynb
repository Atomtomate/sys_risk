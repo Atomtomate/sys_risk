{
 "cells": [
  {
   "cell_type": "code",
   "execution_count": 1,
   "metadata": {},
   "outputs": [],
   "source": [
    "%matplotlib notebook\n",
    "import matplotlib as mpl\n",
    "import itertools\n",
    "import PyVal\n",
    "import numpy as np\n",
    "import pandas as pd\n",
    "import pickle\n",
    "import matplotlib.pyplot as plt\n",
    "import seaborn as sns\n",
    "from tqdm import tqdm_notebook, tqdm, tqdm_gui\n",
    "from functools import reduce\n",
    "from scipy.stats import norm as normalDist\n",
    "from scipy.stats import multivariate_normal as MVNormalDist\n",
    "from matplotlib.lines import Line2D\n",
    "from numpy.linalg import inv as m_inv\n",
    "import matplotlib\n",
    "import ipywidgets as widgets"
   ]
  },
  {
   "cell_type": "code",
   "execution_count": 136,
   "metadata": {},
   "outputs": [],
   "source": [
    "from numba import double, int32, jit\n",
    "from numba.types import UniTuple\n",
    "\n",
    "def fp_num(M_, a_, d_):\n",
    "    max_it = 10\n",
    "    N = 2\n",
    "    x = np.ones(2*N)\n",
    "    for i in range(max_it):\n",
    "        x2 = a_ + M_.dot(x)\n",
    "        s = np.maximum(np.repeat(0.,N), x2 - d_)\n",
    "        r = np.minimum(d_, x2)\n",
    "        x = np.append(s, r)\n",
    "        #if np.linalg.norm(x - x_n) < 1e-8:\n",
    "        #    return x_n\n",
    "        #x = x_n\n",
    "    return x\n",
    "fp_num_2 = jit(double[:](double[:,:], double[:], double[:]))(fp_num)\n",
    "\n",
    "def gen_St(r, T, sigma_, Z):\n",
    "    N = sigma_.shape[0]\n",
    "    m = T * r - T * np.diag(sigma_)/ 2.\n",
    "    return np.exp(m + np.sqrt(T) * np.diag(np.sqrt(sigma_)) * Z)\n",
    "\n",
    "gen_St_2 = jit(double[:,:](double, double, double[:,:], int32))(gen_St)\n",
    "\n",
    "\n",
    "def jac(M_, x_, d_):\n",
    "    N = 2\n",
    "    v = x_[:N] + x_[N:]\n",
    "    solvent = 1.*(v >= d_)\n",
    "    J_a = np.zeros((2*N,N))\n",
    "    J_a[:N,:][np.diag_indices(N)] = solvent\n",
    "    J_a[N:,:][np.diag_indices(N)] = 1. - solvent\n",
    "    invJ = m_inv(np.eye(2*N) - J_a.dot(M))\n",
    "    return invJ.dot(J_a)\n",
    "\n",
    "jac_2 = jit(double[:,:](double[:,:], double, double))(jac)\n",
    "\n",
    "\n",
    "def run_MC(M_, a_, d_, r_, T_, sigma_, N_MC_):\n",
    "    N = 2\n",
    "    x = np.zeros(2*N)\n",
    "    delta = np.zeros((2*N, N))\n",
    "    vega = np.zeros((2*N, N))\n",
    "    rho = np.zeros(2*N)\n",
    "    theta = np.zeros(2*N)\n",
    "    Z = MVNormalDist.rvs(mean = np.zeros(N), cov = np.eye(N), size=N_MC_)\n",
    "    St = gen_St_2(r_, T_, sigma_, Z)\n",
    "    exprt = np.exp(-r_*T_)\n",
    "    for i in range(N_MC_):\n",
    "        St_full = a_*St[i]\n",
    "        x_i = fp_num_2(M_, St_full, d_)\n",
    "        gm_i = jac_2(M_, x_i, d_)\n",
    "        x += x_i\n",
    "        delta += exprt*gm_i.dot(np.diag(St[i]))\n",
    "        \n",
    "        tmp_vega_1 = np.sqrt(T)*Z[i] - T*np.sqrt(np.sqrt(np.diag(sigma_))) #\n",
    "        #print(tmp1)\n",
    "        #print(St_full)\n",
    "        #print(np.outer(tmp1, St_full))\n",
    "        #print(gm_i.shape)\n",
    "        tmp_vega_2 = tmp_vega_1.dot(St[i])\n",
    "        vega += exprt*gm_i.dot(tmp_vega_2)\n",
    "        tmp_theta_1 = r - sigma_/2. + np.diag(Z[i]/(2.*np.sqrt(T_)))\n",
    "        tmp_theta_2 = tmp_theta_1.dot(St[i])\n",
    "        theta += exprt*(gm_i.dot(tmp_theta_2) - r_*x_i)\n",
    "        rho += exprt*T_*(gm_i.dot(St_full) - x_i)\n",
    "    return x/N_MC_, delta/N_MC_, vega/N_MC_, theta/N_MC_, rho/N_MC_\n",
    "\n",
    "run_MC_2 = jit(UniTuple(double[:,:], 2)(double[:,:], double[:], double[:], double, double, double[:,:], int32))(run_MC)"
   ]
  },
  {
   "cell_type": "code",
   "execution_count": 137,
   "metadata": {},
   "outputs": [],
   "source": [
    "N = 2\n",
    "r = 0.\n",
    "T = 1.\n",
    "sdev = 0.1\n",
    "sigma = np.array([[sdev*sdev, 0.],[0.,sdev*sdev]])\n",
    "\n",
    "M = np.array([[0., 0., 0., 0.4],[0.,0., 0.4, 0.]])\n",
    "al = np.linspace(0.2,1.2, 10)\n",
    "d = np.array([1.0, 1.0])\n",
    "\n",
    "N_MC = 6000"
   ]
  },
  {
   "cell_type": "code",
   "execution_count": null,
   "metadata": {},
   "outputs": [
    {
     "name": "stderr",
     "output_type": "stream",
     "text": [
      "test:  80%|████████  | 8/10 [00:26<00:06,  3.36s/it]"
     ]
    }
   ],
   "source": [
    "res_x = []\n",
    "res_delta = []\n",
    "res_vega = []\n",
    "res_theta = []\n",
    "res_rho = []\n",
    "for a0 in tqdm(al,\"test\"):\n",
    "    x, delta, vega, theta, rho = run_MC(M, a0, d, r, T, sigma, N_MC)\n",
    "    res_x.append(x)\n",
    "    res_delta.append(delta)\n",
    "    res_vega.append(vega)\n",
    "    res_theta.append(theta)\n",
    "    res_rho.append(rho)"
   ]
  },
  {
   "cell_type": "code",
   "execution_count": null,
   "metadata": {},
   "outputs": [],
   "source": [
    "rr = np.array(res_delta)\n",
    "eq_delta = np.sum(rr[:,:N,:], axis=(1,2))/N\n",
    "debt_delta = np.sum(rr[:,N:,:], axis=(1,2))/N\n",
    "\n",
    "rr = np.array(res_vega)\n",
    "eq_vega = np.sum(rr[:,:N,:], axis=(1,2))/N\n",
    "debt_vega = np.sum(rr[:,N:,:], axis=(1,2))/N\n",
    "\n",
    "rr = np.array(res_theta)\n",
    "eq_theta = np.sum(rr[:,:N], axis=1)/N\n",
    "debt_theta = np.sum(rr[:,N:], axis=1)/N\n",
    "\n",
    "rr = np.array(res_rho)\n",
    "eq_rho = np.sum(rr[:,:N], axis=1)/N\n",
    "debt_rho = np.sum(rr[:,N:], axis=1)/N"
   ]
  },
  {
   "cell_type": "code",
   "execution_count": null,
   "metadata": {},
   "outputs": [],
   "source": [
    "plt.figure()\n",
    "plt.plot(al, eq_delta + debt_delta, label=\"val\")\n",
    "plt.plot(al, eq_delta, label=\"eq\")\n",
    "plt.plot(al, debt_delta, label=\"debt\")\n",
    "plt.legend()"
   ]
  },
  {
   "cell_type": "code",
   "execution_count": null,
   "metadata": {},
   "outputs": [],
   "source": [
    "plt.figure()\n",
    "plt.plot(al, eq_vega + debt_vega, label=\"val\")\n",
    "plt.plot(al, eq_vega, label=\"eq\")\n",
    "plt.plot(al, debt_vega, label=\"debt\")\n",
    "plt.legend()"
   ]
  },
  {
   "cell_type": "code",
   "execution_count": null,
   "metadata": {},
   "outputs": [],
   "source": [
    "plt.figure()\n",
    "plt.plot(al, eq_theta + debt_theta, label=\"val\")\n",
    "plt.plot(al, eq_theta, label=\"eq\")\n",
    "plt.plot(al, debt_theta, label=\"debt\")\n",
    "plt.legend()"
   ]
  },
  {
   "cell_type": "code",
   "execution_count": null,
   "metadata": {},
   "outputs": [],
   "source": [
    "plt.figure()\n",
    "plt.plot(al, eq_rho + debt_rho, label=\"val\")\n",
    "plt.plot(al, eq_rho, label=\"eq\")\n",
    "plt.plot(al, debt_rho, label=\"debt\")\n",
    "plt.legend()"
   ]
  },
  {
   "cell_type": "code",
   "execution_count": null,
   "metadata": {},
   "outputs": [],
   "source": []
  },
  {
   "cell_type": "code",
   "execution_count": null,
   "metadata": {},
   "outputs": [],
   "source": []
  }
 ],
 "metadata": {
  "kernelspec": {
   "display_name": "Python 3",
   "language": "python",
   "name": "python3"
  },
  "language_info": {
   "codemirror_mode": {
    "name": "ipython",
    "version": 3
   },
   "file_extension": ".py",
   "mimetype": "text/x-python",
   "name": "python",
   "nbconvert_exporter": "python",
   "pygments_lexer": "ipython3",
   "version": "3.6.7"
  }
 },
 "nbformat": 4,
 "nbformat_minor": 2
}
