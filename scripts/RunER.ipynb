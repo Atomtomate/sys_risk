{
 "cells": [
  {
   "cell_type": "code",
   "execution_count": 7,
   "metadata": {},
   "outputs": [],
   "source": [
    "import PyVal\n",
    "import numpy as np\n",
    "import pickle\n",
    "import matplotlib.pyplot as plt\n",
    "import ipyparallel as ipp"
   ]
  },
  {
   "cell_type": "code",
   "execution_count": 8,
   "metadata": {
    "scrolled": true
   },
   "outputs": [
    {
     "name": "stdout",
     "output_type": "stream",
     "text": [
      "Using matplotlib backend: TkAgg\n",
      "importing PyVal on engine(s)\n",
      "importing numpy on engine(s)\n",
      "importing pickle on engine(s)\n",
      "importing matplotlib.pyplot on engine(s)\n"
     ]
    },
    {
     "name": "stderr",
     "output_type": "stream",
     "text": [
      "/home/julian/.local/lib/python3.6/site-packages/ipyparallel/client/client.py:459: RuntimeWarning: \n",
      "            Controller appears to be listening on localhost, but not on this machine.\n",
      "            If this is true, you should specify Client(...,sshserver='you@julian-ThinkPad-W530')\n",
      "            or instruct your controller to listen on an external IP.\n",
      "  RuntimeWarning)\n"
     ]
    }
   ],
   "source": [
    "%matplotlib\n",
    "#%px import ipyparallel as ipp; ipp.bind_kernel()\n",
    "#%px %pylab inline\n",
    "#%px %qtconsole\n",
    "#%px %connect_info\n",
    "rc = ipp.Client()\n",
    "rc.ids\n",
    "with rc[:].sync_imports():\n",
    "    import PyVal\n",
    "    import numpy as np\n",
    "    import pickle\n",
    "    import matplotlib.pyplot as plt\n",
    "dview = rc.load_balanced_view()"
   ]
  },
  {
   "cell_type": "code",
   "execution_count": 9,
   "metadata": {},
   "outputs": [],
   "source": [
    "#@ipp.require('PyVal', 'numpy')\n",
    "def run_sim(N, val, pList):\n",
    "    import numpy as np\n",
    "    nw = PyVal.BS_Network()\n",
    "    MList = []\n",
    "    rsList= []\n",
    "    deltaList = []\n",
    "    solventList = []\n",
    "    rsVarList= []\n",
    "    deltaVarList = []\n",
    "    solventVarList = []\n",
    "    #vOutList = []\n",
    "    for p in pList:\n",
    "        print(\"Runing N=\" +str(N)+ \", val=\"+str(val)+\", p=\"+str(p))\n",
    "        nw.run(N, p, val, 2, 1.0, 0.0, 3000, 80)\n",
    "        MList.append(nw.get_M().copy())\n",
    "        rsList.append(nw.get_rs().copy())\n",
    "        solventList.append(nw.get_solvent().copy())\n",
    "        deltaList.append(nw.get_delta_jacobians().copy())\n",
    "        rsVarList.append(nw.get_rs_var().copy())\n",
    "        solventVarList.append(nw.get_solvent_var().copy())\n",
    "        deltaVarList.append(nw.get_delta_jacobians_var().copy())\n",
    "    res = {'N': N, 'conn': N*np.array(pList), 'val': val, 'M': MList,\\\n",
    "\t\t'RS': rsList, 'Delta': deltaList, 'Solvent': solventList, 'RS var': rsVarList, 'Delta var': deltaVarList, 'Solvent var': solventVarList}\n",
    "    return res\n",
    "\n",
    "def test1(n):\n",
    "    r = 0\n",
    "    for i in range(n):\n",
    "        r += i\n",
    "    return r\n",
    "\n",
    "def pList(N, pts):\n",
    "    import numpy as np\n",
    "    return np.union1d(np.linspace(0.0,1.8/N,pts), np.linspace(0.7/N,1.3/N,pts))"
   ]
  },
  {
   "cell_type": "markdown",
   "metadata": {},
   "source": [
    "# Parameters\n",
    "## Black Scholes\n",
    "    - T = 1\n",
    "    - r = 0\n",
    "    \n",
    "## Network Parameters\n",
    "    - N = [15, 25, 50, 75, 100, 150, 200, 300]\n",
    "    - <k> = n*p = [0 .. 1.8]\n",
    "    - M => ER(N,p)"
   ]
  },
  {
   "cell_type": "code",
   "execution_count": 10,
   "metadata": {
    "scrolled": true
   },
   "outputs": [],
   "source": [
    "dview.block=False\n",
    "in_0_1 = [(15,0.1, el) for el in pList(15,8)]#, (25,0.1,pList(25,8)), (50,0.1,pList(50,6)), (75, 0.1, pList(75,6))]#, (100, 0.1, pList(100,4)), (200, 0.1, pList(200,2))]\n",
    "async_res = []\n",
    "ids = []\n",
    "for el in in_0_1:\n",
    "    b_re = dview.apply_async(run_sim, *el)\n",
    "    async_res.append(b_re)\n",
    "    ids.extend(b_re.msg_ids)\n"
   ]
  },
  {
   "cell_type": "code",
   "execution_count": null,
   "metadata": {},
   "outputs": [],
   "source": [
    "#re_test[0].get(1)\n",
    "\n",
    "a = rc.get_result(ids, owner=False).wait_interactive()\n",
    "b_re.get_dict()"
   ]
  },
  {
   "cell_type": "code",
   "execution_count": null,
   "metadata": {},
   "outputs": [],
   "source": []
  }
 ],
 "metadata": {
  "kernelspec": {
   "display_name": "Python 3",
   "language": "python",
   "name": "python3"
  },
  "language_info": {
   "codemirror_mode": {
    "name": "ipython",
    "version": 3
   },
   "file_extension": ".py",
   "mimetype": "text/x-python",
   "name": "python",
   "nbconvert_exporter": "python",
   "pygments_lexer": "ipython3",
   "version": "3.6.5"
  }
 },
 "nbformat": 4,
 "nbformat_minor": 2
}
