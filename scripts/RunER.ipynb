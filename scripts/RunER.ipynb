{
 "cells": [
  {
   "cell_type": "code",
   "execution_count": 1,
   "metadata": {},
   "outputs": [],
   "source": [
    "import PyVal\n",
    "import numpy as np\n",
    "import pickle\n",
    "import matplotlib.pyplot as plt\n",
    "import ipyparallel as ipp\n",
    "from functools import reduce"
   ]
  },
  {
   "cell_type": "code",
   "execution_count": 2,
   "metadata": {
    "scrolled": true
   },
   "outputs": [
    {
     "name": "stdout",
     "output_type": "stream",
     "text": [
      "Using matplotlib backend: TkAgg\n",
      "importing PyVal on engine(s)\n",
      "importing numpy on engine(s)\n",
      "importing pickle on engine(s)\n",
      "importing matplotlib.pyplot on engine(s)\n"
     ]
    },
    {
     "name": "stderr",
     "output_type": "stream",
     "text": [
      "/home/julian/.local/lib/python3.6/site-packages/ipyparallel/client/client.py:459: RuntimeWarning: \n",
      "            Controller appears to be listening on localhost, but not on this machine.\n",
      "            If this is true, you should specify Client(...,sshserver='you@julian-ThinkPad-W530')\n",
      "            or instruct your controller to listen on an external IP.\n",
      "  RuntimeWarning)\n"
     ]
    }
   ],
   "source": [
    "%matplotlib\n",
    "#%px import ipyparallel as ipp; ipp.bind_kernel()\n",
    "#%px %pylab inline\n",
    "#%px %qtconsole\n",
    "#%px %connect_info\n",
    "rc = ipp.Client()\n",
    "rc.ids\n",
    "with rc[:].sync_imports():\n",
    "    import PyVal\n",
    "    import numpy as np\n",
    "    import pickle\n",
    "    import matplotlib.pyplot as plt\n",
    "dview = rc.load_balanced_view()"
   ]
  },
  {
   "cell_type": "code",
   "execution_count": 37,
   "metadata": {},
   "outputs": [],
   "source": [
    "#@ipp.require('PyVal', 'numpy')\n",
    "def run_sim(N, val, pList, T, r):\n",
    "    import numpy as np\n",
    "    nw = PyVal.BS_Network()\n",
    "    MList = []\n",
    "    rsList= []\n",
    "    assetList= []\n",
    "    deltaList = []\n",
    "    solventList = []\n",
    "    MVarList = []\n",
    "    rsVarList= []\n",
    "    assetVarList= []\n",
    "    deltaVarList = []\n",
    "    solventVarList = []\n",
    "    #vOutList = []\n",
    "    for p in pList:\n",
    "        print(\"Runing N=\" +str(N)+ \", val=\"+str(val)+\", p=\"+str(p))\n",
    "        nw.run(N, p, val, 2, T, r, 2000, 200)\n",
    "        MList.append(nw.get_M())\n",
    "        rsList.append(np.array(nw.get_rs())[:,0])\n",
    "        assetList.append(np.array(nw.get_assets())[:,0])\n",
    "        solventList.append(np.array(nw.get_solvent())[:,0])\n",
    "        deltaList.append(nw.get_delta_jacobians())\n",
    "        MVarList.append(nw.get_M_var())\n",
    "        rsVarList.append(np.array(nw.get_rs_var())[:,0])\n",
    "        assetVarList.append(np.array(nw.get_assets_var())[:,0])\n",
    "        solventVarList.append(np.array(nw.get_solvent_var())[:,0])\n",
    "        deltaVarList.append(nw.get_delta_jacobians_var())\n",
    "    res = {'N': N, 'conn': (N*np.array(pList)).tolist(), 'T':T, 'r': r ,'p': pList, 'val': val, 'M': MList, 'M var': MVarList,\\\n",
    "           'Assets': assetList, 'Assets var': assetVarList,\\\n",
    "\t\t'RS': rsList, 'Delta': deltaList, 'Solvent': solventList, 'RS var': rsVarList, 'Delta var': deltaVarList, 'Solvent var': solventVarList}\n",
    "    return res\n",
    "\n",
    "# callapses a list of results into a single result.\n",
    "# returns a tuple: (Collapsed result, list of results with wrong parameters)\n",
    "# TODO: allow for collaps along, r, T, val, N. for now only p\n",
    "# TODO: sort along collapse axis\n",
    "def combine_results(*results):\n",
    "    r0 = results[0]\n",
    "    res_new = r0.copy()\n",
    "    failed = []\n",
    "    if type(r0) is not dict:\n",
    "        print(\"WARNING! Did recieve non-dict type as parameter\")\n",
    "    \n",
    "\n",
    "    def combine(el):\n",
    "        if r0['val'] != el['val'] or r0['N'] != el['N']\\\n",
    "        or r0['T'] != el['T'] or r0['r'] != el['r']:\n",
    "            return False\n",
    "        for key, value in el.items():\n",
    "            if key == 'val' or key == 'N' or key == 'T' or key == 'r':\n",
    "                continue\n",
    "            if type(el[key]) is not list:\n",
    "                print(\"WARNING! Key: \" + key + \" is not a list\")\n",
    "            res_new[key] = res_new[key] + el[key]\n",
    "        return True\n",
    "            \n",
    "    for el in results[1:]:\n",
    "        if type(el) is not dict:\n",
    "            print(\"WARNING! Did recieve non-dict type as parameter\")\n",
    "        if not combine(el):\n",
    "            failed.append(el)\n",
    "            \n",
    "    return (res_new, failed)\n",
    "\n",
    "def test1(n):\n",
    "    r = 0\n",
    "    for i in range(n):\n",
    "        r += i\n",
    "    return r\n",
    "\n",
    "def pList(N, pts):\n",
    "    import numpy as np\n",
    "    return np.union1d(np.linspace(0.0,1.8/N,pts), np.linspace(0.7/N,1.3/N,pts))"
   ]
  },
  {
   "cell_type": "markdown",
   "metadata": {},
   "source": [
    "# Parameters\n",
    "## Black Scholes\n",
    "    - T = 1\n",
    "    - r = 0\n",
    "    \n",
    "## Network Parameters\n",
    "    - N = [15, 25, 50, 75, 100, 150, 200, 300]\n",
    "    - <k> = n*p = [0 .. 1.8]\n",
    "    - M => ER(N,p)"
   ]
  },
  {
   "cell_type": "code",
   "execution_count": 35,
   "metadata": {
    "scrolled": true
   },
   "outputs": [],
   "source": [
    "dview.block=False\n",
    "in_0_1 = [(N,0.1, [el], 1.0, 0.0) for N in [3, 5] for el in pList(N,3)]#, (25,0.1,pList(25,8)), (50,0.1,pList(50,6)), (75, 0.1, pList(75,6))]#, (100, 0.1, pList(100,4)), (200, 0.1, pList(200,2))]\n",
    "in_0_1_2 = [(5,0.1, pList(5,4))]\n",
    "async_res = []\n",
    "ids = []\n",
    "for el in in_0_1:\n",
    "    b_re = dview.apply_async(run_sim, *el)\n",
    "    async_res.append(b_re)\n",
    "    ids.extend(b_re.msg_ids)\n"
   ]
  },
  {
   "cell_type": "code",
   "execution_count": 36,
   "metadata": {},
   "outputs": [
    {
     "name": "stdout",
     "output_type": "stream",
     "text": [
      "  12/12 tasks finished after   25 s\n",
      "done\n"
     ]
    }
   ],
   "source": [
    "rc.get_result(ids, owner=False).wait_interactive()"
   ]
  },
  {
   "cell_type": "code",
   "execution_count": 38,
   "metadata": {},
   "outputs": [
    {
     "data": {
      "text/plain": [
       "12"
      ]
     },
     "execution_count": 38,
     "metadata": {},
     "output_type": "execute_result"
    }
   ],
   "source": [
    "res = [r.get() for r in async_res]\n",
    "len(res)"
   ]
  },
  {
   "cell_type": "code",
   "execution_count": 53,
   "metadata": {},
   "outputs": [
    {
     "data": {
      "text/plain": [
       "{'Assets': [array([1.01064575, 1.01065527, 1.00984695]),\n",
       "  array([1.01064575, 1.01065527, 1.00984695]),\n",
       "  array([1.01064575, 1.01065527, 1.00984695]),\n",
       "  array([1.01064575, 1.01065527, 1.00984695]),\n",
       "  array([1.01064575, 1.01065527, 1.00984695]),\n",
       "  array([1.01064575, 1.01065527, 1.00984695])],\n",
       " 'Assets var': [array([0.02303463, 0.02335925, 0.02316355]),\n",
       "  array([0.02303463, 0.02335925, 0.02316355]),\n",
       "  array([0.02303463, 0.02335925, 0.02316355]),\n",
       "  array([0.02303463, 0.02335925, 0.02316355]),\n",
       "  array([0.02303463, 0.02335925, 0.02316355]),\n",
       "  array([0.02303463, 0.02335925, 0.02316355])],\n",
       " 'Delta': [array([[ 2.90635629e-001,  7.09161041e-310,  7.08026658e-310],\n",
       "         [ 5.51949636e-317,  2.93612046e-001,  5.51077462e-317],\n",
       "         [ 7.91145769e+087, -2.67624541e-301,  2.91286018e-001],\n",
       "         [ 7.19754365e-001,  7.09160877e-310,  7.08026658e-310],\n",
       "         [ 5.51949636e-317,  7.16787464e-001,  5.51077462e-317],\n",
       "         [-2.08999187e+260, -3.30277253e-101,  7.18305381e-001]]),\n",
       "  array([[0.41170612, 0.00499808, 0.00999423],\n",
       "         [0.00741876, 0.41627856, 0.00614925],\n",
       "         [0.00581357, 0.00560086, 0.39852653],\n",
       "         [0.59905642, 0.00586313, 0.01250044],\n",
       "         [0.00873346, 0.59438379, 0.00860649],\n",
       "         [0.00717197, 0.0084337 , 0.61152207]]),\n",
       "  array([[0.43819171, 0.0080356 , 0.03641069],\n",
       "         [0.01003613, 0.4500159 , 0.00785525],\n",
       "         [0.00690785, 0.00669572, 0.41875061],\n",
       "         [0.57361057, 0.00955617, 0.0421215 ],\n",
       "         [0.01229679, 0.56186813, 0.03540114],\n",
       "         [0.00914442, 0.03629484, 0.59324455]]),\n",
       "  array([[ 4.44183805e-01,  1.40715564e-02,  1.87990752e-02],\n",
       "         [ 2.18647235e-02,  4.59880866e-01,  1.50412775e-02],\n",
       "         [-4.65501784e+43, -1.38874747e+42, -9.45788528e+41],\n",
       "         [ 5.68054926e-01,  1.66163421e-02,  2.20379607e-02],\n",
       "         [ 2.59283916e-02,  5.52213657e-01,  1.75507984e-02],\n",
       "         [ 1.59772951e-02,  1.80993299e-02,  5.87780955e-01]]),\n",
       "  array([[0.46925819, 0.00921587, 0.01052126],\n",
       "         [0.01138043, 0.47470036, 0.00729765],\n",
       "         [0.00882055, 0.00786449, 0.45489903],\n",
       "         [0.54193101, 0.01099267, 0.01209941],\n",
       "         [0.01368791, 0.53636331, 0.00987045],\n",
       "         [0.01071941, 0.01090851, 0.55538629]]),\n",
       "  array([[nan, nan, nan],\n",
       "         [nan, nan, nan],\n",
       "         [nan, nan, nan],\n",
       "         [nan, nan, nan],\n",
       "         [nan, nan, nan],\n",
       "         [nan, nan, nan]])],\n",
       " 'Delta var': [array([[2.70988980e-001, 0.00000000e+000, 0.00000000e+000],\n",
       "         [0.00000000e+000, 2.73298278e-001, 0.00000000e+000],\n",
       "         [1.41155048e+174, 0.00000000e+000, 2.71332227e-001],\n",
       "         [1.70406522e-001, 0.00000000e+000, 0.00000000e+000],\n",
       "         [0.00000000e+000, 1.70964014e-001, 0.00000000e+000],\n",
       "         [            inf, 2.49465251e-203, 1.70284226e-001]]),\n",
       "  array([[0.31397846, 0.0003742 , 0.00069405],\n",
       "         [0.00056055, 0.31595421, 0.00043992],\n",
       "         [0.00046812, 0.00044976, 0.31073648],\n",
       "         [0.20221107, 0.00043682, 0.00081227],\n",
       "         [0.00065065, 0.20220625, 0.00050477],\n",
       "         [0.00056651, 0.00053562, 0.19975514]]),\n",
       "  array([[0.31896926, 0.00051562, 0.00061353],\n",
       "         [0.00075847, 0.32288867, 0.00053252],\n",
       "         [0.00054475, 0.0005247 , 0.31656154],\n",
       "         [0.20572742, 0.00061712, 0.00071194],\n",
       "         [0.00088899, 0.206062  , 0.00059016],\n",
       "         [0.00067026, 0.00059389, 0.20332088]]),\n",
       "  array([[3.20508108e-01, 4.57895740e-04, 6.43853302e-04],\n",
       "         [7.83016470e-04, 3.23928634e-01, 5.11433880e-04],\n",
       "         [4.84008304e+85, 1.82119326e+84, 2.56284158e+84],\n",
       "         [2.06407440e-01, 5.40523902e-04, 7.41518302e-04],\n",
       "         [9.01554597e-04, 2.06615997e-01, 5.87263792e-04],\n",
       "         [5.69277298e-04, 6.49998799e-04, 2.03649857e-01]]),\n",
       "  array([[0.32391325, 0.00058265, 0.00058384],\n",
       "         [0.00077702, 0.32560835, 0.00046696],\n",
       "         [0.00059902, 0.00053272, 0.32218972],\n",
       "         [0.20749925, 0.00069426, 0.00067747],\n",
       "         [0.00091132, 0.20683643, 0.00052564],\n",
       "         [0.00070471, 0.00059476, 0.20613227]]),\n",
       "  array([[nan, nan, nan],\n",
       "         [nan, nan, nan],\n",
       "         [nan, nan, nan],\n",
       "         [nan, nan, nan],\n",
       "         [nan, nan, nan],\n",
       "         [nan, nan, nan]])],\n",
       " 'M': [array([[0., 0., 0., 0., 0., 0.],\n",
       "         [0., 0., 0., 0., 0., 0.],\n",
       "         [0., 0., 0., 0., 0., 0.]]),\n",
       "  array([[0.   , 0.   , 0.   , 0.   , 0.017, 0.031],\n",
       "         [0.   , 0.   , 0.   , 0.028, 0.   , 0.022],\n",
       "         [0.   , 0.   , 0.   , 0.023, 0.021, 0.   ]]),\n",
       "  array([[0.   , 0.   , 0.   , 0.   , 0.027, 0.031],\n",
       "         [0.   , 0.   , 0.   , 0.038, 0.   , 0.026],\n",
       "         [0.   , 0.   , 0.   , 0.028, 0.024, 0.   ]]),\n",
       "  array([[0.   , 0.   , 0.   , 0.   , 0.026, 0.034],\n",
       "         [0.   , 0.   , 0.   , 0.041, 0.   , 0.027],\n",
       "         [0.   , 0.   , 0.   , 0.026, 0.028, 0.   ]]),\n",
       "  array([[0.   , 0.   , 0.   , 0.   , 0.036, 0.034],\n",
       "         [0.   , 0.   , 0.   , 0.045, 0.   , 0.029],\n",
       "         [0.   , 0.   , 0.   , 0.037, 0.029, 0.   ]]),\n",
       "  array([[0.   , 0.   , 0.   , 0.   , 0.042, 0.044],\n",
       "         [0.   , 0.   , 0.   , 0.048, 0.   , 0.034],\n",
       "         [0.   , 0.   , 0.   , 0.047, 0.035, 0.   ]])],\n",
       " 'M var': [array([[0., 0., 0., 0., 0., 0.],\n",
       "         [0., 0., 0., 0., 0., 0.],\n",
       "         [0., 0., 0., 0., 0., 0.]]),\n",
       "  array([[0.      , 0.      , 0.      , 0.      , 0.001161, 0.001889],\n",
       "         [0.      , 0.      , 0.      , 0.001716, 0.      , 0.001416],\n",
       "         [0.      , 0.      , 0.      , 0.001621, 0.001509, 0.      ]]),\n",
       "  array([[0.      , 0.      , 0.      , 0.      , 0.001521, 0.001689],\n",
       "         [0.      , 0.      , 0.      , 0.002056, 0.      , 0.001624],\n",
       "         [0.      , 0.      , 0.      , 0.001816, 0.001624, 0.      ]]),\n",
       "  array([[0.      , 0.      , 0.      , 0.      , 0.001424, 0.001744],\n",
       "         [0.      , 0.      , 0.      , 0.002069, 0.      , 0.001621],\n",
       "         [0.      , 0.      , 0.      , 0.001624, 0.001716, 0.      ]]),\n",
       "  array([[0.      , 0.      , 0.      , 0.      , 0.001604, 0.001544],\n",
       "         [0.      , 0.      , 0.      , 0.001925, 0.      , 0.001509],\n",
       "         [0.      , 0.      , 0.      , 0.001781, 0.001509, 0.      ]]),\n",
       "  array([[0.      , 0.      , 0.      , 0.      , 0.001536, 0.001564],\n",
       "         [0.      , 0.      , 0.      , 0.001496, 0.      , 0.001244],\n",
       "         [0.      , 0.      , 0.      , 0.001541, 0.001325, 0.      ]])],\n",
       " 'N': 3,\n",
       " 'RS': [array([0.0251092 , 0.02568637, 0.02509308, 0.98553655, 0.9849689 ,\n",
       "         0.98475387]),\n",
       "  array([0.04226659, 0.04375279, 0.04056019, 1.01689475, 1.01809011,\n",
       "         1.01439396]),\n",
       "  array([0.04601654, 0.04878504, 0.04352431, 1.02370331, 1.02739549,\n",
       "         1.01963456]),\n",
       "  array([0.0469261 , 0.05033709, 0.04438991, 1.02514236, 1.03012028,\n",
       "         1.02099353]),\n",
       "  array([0.05058994, 0.0526773 , 0.04910829, 1.03210602, 1.03451217,\n",
       "         1.02891813]),\n",
       "  array([0.0567791 , 0.05619543, 0.05525749, 1.0432279 , 1.04020571,\n",
       "         1.04024911])],\n",
       " 'RS var': [array([0.00409823, 0.00416995, 0.00411619, 0.01263026, 0.01270902,\n",
       "         0.01270597]),\n",
       "  array([0.00695901, 0.00722831, 0.00674957, 0.01092514, 0.01072089,\n",
       "         0.01102161]),\n",
       "  array([0.00749434, 0.00796543, 0.00720673, 0.01030504, 0.0097621 ,\n",
       "         0.01049026]),\n",
       "  array([0.0076325 , 0.00817643, 0.00734639, 0.01014155, 0.00944494,\n",
       "         0.01037256]),\n",
       "  array([0.00811854, 0.00850562, 0.00805478, 0.00935982, 0.00890883,\n",
       "         0.0095316 ]),\n",
       "  array([0.00894387, 0.00895965, 0.00885307, 0.00792104, 0.00820569,\n",
       "         0.00814248])],\n",
       " 'Solvent': [array([0.23904, 0.2412 , 0.23964]),\n",
       "  array([0.3536 , 0.35728, 0.34116]),\n",
       "  array([0.37836, 0.38884, 0.35956]),\n",
       "  array([0.38388, 0.398  , 0.36428]),\n",
       "  array([0.40824, 0.41264, 0.39456]),\n",
       "  array([0.44844, 0.43464, 0.43524])],\n",
       " 'Solvent var': [array([0.18189988, 0.18302256, 0.18221267]),\n",
       "  array([0.22856704, 0.229631  , 0.22476985]),\n",
       "  array([0.23520371, 0.23764345, 0.23027661]),\n",
       "  array([0.23651615, 0.239596  , 0.23158008]),\n",
       "  array([0.2415801 , 0.24236823, 0.23888241]),\n",
       "  array([0.24734157, 0.24572807, 0.24580614])],\n",
       " 'T': 1.0,\n",
       " 'conn': [0.0, 0.7, 0.8999999999999999, 1.0, 1.3, 1.7999999999999998],\n",
       " 'p': [0.0,\n",
       "  0.2333333333333333,\n",
       "  0.3,\n",
       "  0.3333333333333333,\n",
       "  0.43333333333333335,\n",
       "  0.6],\n",
       " 'r': 0.0,\n",
       " 'val': 0.1}"
      ]
     },
     "execution_count": 53,
     "metadata": {},
     "output_type": "execute_result"
    }
   ],
   "source": [
    "#res = [r.get() for r in async_res]\n",
    "results = []\n",
    "tmp = combine_results(*res)\n",
    "results.append(tmp[0])\n",
    "while len(tmp[1]):\n",
    "    tmp = combine_results(*tmp[1])\n",
    "    results.append(tmp[0])\n",
    "results[0]"
   ]
  },
  {
   "cell_type": "code",
   "execution_count": 50,
   "metadata": {},
   "outputs": [
    {
     "data": {
      "text/plain": [
       "[]"
      ]
     },
     "execution_count": 50,
     "metadata": {},
     "output_type": "execute_result"
    }
   ],
   "source": [
    "bb = combine_results(*aa[1])\n",
    "bb[1]"
   ]
  },
  {
   "cell_type": "code",
   "execution_count": 45,
   "metadata": {},
   "outputs": [
    {
     "ename": "IndexError",
     "evalue": "too many indices for array",
     "output_type": "error",
     "traceback": [
      "\u001b[0;31m---------------------------------------------------------------------------\u001b[0m",
      "\u001b[0;31mIndexError\u001b[0m                                Traceback (most recent call last)",
      "\u001b[0;32m<ipython-input-45-791bda2b1ba3>\u001b[0m in \u001b[0;36m<module>\u001b[0;34m()\u001b[0m\n\u001b[0;32m----> 1\u001b[0;31m \u001b[0mnp\u001b[0m\u001b[0;34m.\u001b[0m\u001b[0marray\u001b[0m\u001b[0;34m(\u001b[0m\u001b[0mres\u001b[0m\u001b[0;34m[\u001b[0m\u001b[0;36m0\u001b[0m\u001b[0;34m]\u001b[0m\u001b[0;34m[\u001b[0m\u001b[0;34m'Assets'\u001b[0m\u001b[0;34m]\u001b[0m\u001b[0;34m)\u001b[0m\u001b[0;34m[\u001b[0m\u001b[0;34m:\u001b[0m\u001b[0;34m,\u001b[0m\u001b[0;34m:\u001b[0m\u001b[0;34m,\u001b[0m\u001b[0;36m0\u001b[0m\u001b[0;34m]\u001b[0m\u001b[0;34m\u001b[0m\u001b[0m\n\u001b[0m",
      "\u001b[0;31mIndexError\u001b[0m: too many indices for array"
     ]
    }
   ],
   "source": [
    "np.array(res[0]['Assets'])[:,:,0]"
   ]
  },
  {
   "cell_type": "code",
   "execution_count": null,
   "metadata": {},
   "outputs": [],
   "source": []
  }
 ],
 "metadata": {
  "kernelspec": {
   "display_name": "Python 3",
   "language": "python",
   "name": "python3"
  },
  "language_info": {
   "codemirror_mode": {
    "name": "ipython",
    "version": 3
   },
   "file_extension": ".py",
   "mimetype": "text/x-python",
   "name": "python",
   "nbconvert_exporter": "python",
   "pygments_lexer": "ipython3",
   "version": "3.6.5"
  }
 },
 "nbformat": 4,
 "nbformat_minor": 2
}
